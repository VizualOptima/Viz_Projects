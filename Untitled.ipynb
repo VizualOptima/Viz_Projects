{
 "cells": [
  {
   "cell_type": "code",
   "execution_count": 15,
   "id": "6e8a876a-fa7d-4bd6-b868-5432aac8c209",
   "metadata": {},
   "outputs": [],
   "source": [
    "import pandas as pd \n",
    "import os"
   ]
  },
  {
   "cell_type": "code",
   "execution_count": 17,
   "id": "83c56a59-fad0-42fb-9072-d97c6bc07274",
   "metadata": {},
   "outputs": [],
   "source": [
    "# dataset_1 = os.path.join(r\"C:\\Users\\manga\\Vizual_Optima_Git\\world_bank_data_cleanup\\Raw.xlsx\")\n",
    "dataset_2 = os.path.join(r\"C:\\Users\\manga\\Vizual_Optima_Git\\world_population_analysis\\data.xlsx\")"
   ]
  },
  {
   "cell_type": "code",
   "execution_count": 21,
   "id": "bfb6dad4-d12a-49b3-b732-6dede3bda726",
   "metadata": {
    "scrolled": true
   },
   "outputs": [
    {
     "ename": "KeyError",
     "evalue": "'Country Name'",
     "output_type": "error",
     "traceback": [
      "\u001b[1;31m---------------------------------------------------------------------------\u001b[0m",
      "\u001b[1;31mKeyError\u001b[0m                                  Traceback (most recent call last)",
      "File \u001b[1;32m~\\anaconda3\\Lib\\site-packages\\pandas\\core\\indexes\\base.py:3805\u001b[0m, in \u001b[0;36mIndex.get_loc\u001b[1;34m(self, key)\u001b[0m\n\u001b[0;32m   3804\u001b[0m \u001b[38;5;28;01mtry\u001b[39;00m:\n\u001b[1;32m-> 3805\u001b[0m     \u001b[38;5;28;01mreturn\u001b[39;00m \u001b[38;5;28mself\u001b[39m\u001b[38;5;241m.\u001b[39m_engine\u001b[38;5;241m.\u001b[39mget_loc(casted_key)\n\u001b[0;32m   3806\u001b[0m \u001b[38;5;28;01mexcept\u001b[39;00m \u001b[38;5;167;01mKeyError\u001b[39;00m \u001b[38;5;28;01mas\u001b[39;00m err:\n",
      "File \u001b[1;32mindex.pyx:167\u001b[0m, in \u001b[0;36mpandas._libs.index.IndexEngine.get_loc\u001b[1;34m()\u001b[0m\n",
      "File \u001b[1;32mindex.pyx:175\u001b[0m, in \u001b[0;36mpandas._libs.index.IndexEngine.get_loc\u001b[1;34m()\u001b[0m\n",
      "File \u001b[1;32mpandas\\\\_libs\\\\index_class_helper.pxi:70\u001b[0m, in \u001b[0;36mpandas._libs.index.Int64Engine._check_type\u001b[1;34m()\u001b[0m\n",
      "\u001b[1;31mKeyError\u001b[0m: 'Country Name'",
      "\nThe above exception was the direct cause of the following exception:\n",
      "\u001b[1;31mKeyError\u001b[0m                                  Traceback (most recent call last)",
      "Cell \u001b[1;32mIn[21], line 48\u001b[0m\n\u001b[0;32m      2\u001b[0m df_country\u001b[38;5;241m=\u001b[39mpd\u001b[38;5;241m.\u001b[39mread_excel(dataset_2,header \u001b[38;5;241m=\u001b[39m \u001b[38;5;28;01mNone\u001b[39;00m)\n\u001b[0;32m      4\u001b[0m \u001b[38;5;66;03m# # The raw dataset comes with rows that need to be deleted , so the row starting with country name is set as header\u001b[39;00m\n\u001b[0;32m      5\u001b[0m \u001b[38;5;66;03m# df_1.columns = df_1.iloc[4]\u001b[39;00m\n\u001b[0;32m      6\u001b[0m \n\u001b[1;32m   (...)\u001b[0m\n\u001b[0;32m     46\u001b[0m \n\u001b[0;32m     47\u001b[0m \u001b[38;5;66;03m# #rename countries to universal standards\u001b[39;00m\n\u001b[1;32m---> 48\u001b[0m df_country \u001b[38;5;241m=\u001b[39m df_country[\u001b[38;5;124m'\u001b[39m\u001b[38;5;124mCountry Name\u001b[39m\u001b[38;5;124m'\u001b[39m]\u001b[38;5;241m.\u001b[39mreplace({\u001b[38;5;124m'\u001b[39m\u001b[38;5;124mBahamas, The\u001b[39m\u001b[38;5;124m'\u001b[39m: \u001b[38;5;124m'\u001b[39m\u001b[38;5;124mBahamas\u001b[39m\u001b[38;5;124m'\u001b[39m, \u001b[38;5;124m'\u001b[39m\u001b[38;5;124mCongo, Dem. Rep.\u001b[39m\u001b[38;5;124m'\u001b[39m : \u001b[38;5;124m'\u001b[39m\u001b[38;5;124mDemocratic Republic of Congo\u001b[39m\u001b[38;5;124m'\u001b[39m,\u001b[38;5;124m'\u001b[39m\u001b[38;5;124mCongo, Rep.\u001b[39m\u001b[38;5;124m'\u001b[39m:\u001b[38;5;124m'\u001b[39m\u001b[38;5;124mRepublic of Congo\u001b[39m\u001b[38;5;124m'\u001b[39m,\n\u001b[0;32m     49\u001b[0m \u001b[38;5;124m'\u001b[39m\u001b[38;5;124mEgypt, Arab Rep.\u001b[39m\u001b[38;5;124m'\u001b[39m:\u001b[38;5;124m'\u001b[39m\u001b[38;5;124mEgypt\u001b[39m\u001b[38;5;124m'\u001b[39m,\u001b[38;5;124m'\u001b[39m\u001b[38;5;124mMicronesia, Fed. Sts.\u001b[39m\u001b[38;5;124m'\u001b[39m:\u001b[38;5;124m'\u001b[39m\u001b[38;5;124mMicronesia\u001b[39m\u001b[38;5;124m'\u001b[39m,\u001b[38;5;124m'\u001b[39m\u001b[38;5;124mGambia, The\u001b[39m\u001b[38;5;124m'\u001b[39m:\u001b[38;5;124m'\u001b[39m\u001b[38;5;124mGambia\u001b[39m\u001b[38;5;124m'\u001b[39m,\u001b[38;5;124m'\u001b[39m\u001b[38;5;124mHong Kong SAR, China\u001b[39m\u001b[38;5;124m'\u001b[39m:\u001b[38;5;124m'\u001b[39m\u001b[38;5;124mHong Kong\u001b[39m\u001b[38;5;124m'\u001b[39m,\n\u001b[0;32m     50\u001b[0m \u001b[38;5;124m'\u001b[39m\u001b[38;5;124mIran, Islamic Rep.\u001b[39m\u001b[38;5;124m'\u001b[39m:\u001b[38;5;124m'\u001b[39m\u001b[38;5;124mIran\u001b[39m\u001b[38;5;124m'\u001b[39m,\u001b[38;5;124m'\u001b[39m\u001b[38;5;124mKyrgyz Republic\u001b[39m\u001b[38;5;124m'\u001b[39m:\u001b[38;5;124m'\u001b[39m\u001b[38;5;124mKyrgyzstan\u001b[39m\u001b[38;5;124m'\u001b[39m,\u001b[38;5;124m'\u001b[39m\u001b[38;5;124mKorea, Rep.\u001b[39m\u001b[38;5;124m'\u001b[39m:\u001b[38;5;124m'\u001b[39m\u001b[38;5;124mSouth Korea\u001b[39m\u001b[38;5;124m'\u001b[39m,\u001b[38;5;124m'\u001b[39m\u001b[38;5;124mLao PDR\u001b[39m\u001b[38;5;124m'\u001b[39m:\u001b[38;5;124m'\u001b[39m\u001b[38;5;124mLaos\u001b[39m\u001b[38;5;124m'\u001b[39m,\u001b[38;5;124m'\u001b[39m\u001b[38;5;124mMacao SAR, China\u001b[39m\u001b[38;5;124m'\u001b[39m:\u001b[38;5;124m'\u001b[39m\u001b[38;5;124mMacao\u001b[39m\u001b[38;5;124m'\u001b[39m,\n\u001b[0;32m     51\u001b[0m \u001b[38;5;124m'\u001b[39m\u001b[38;5;124mSt. Martin (French part)\u001b[39m\u001b[38;5;124m'\u001b[39m:\u001b[38;5;124m'\u001b[39m\u001b[38;5;124mSaint Martin\u001b[39m\u001b[38;5;124m'\u001b[39m,\u001b[38;5;124m'\u001b[39m\u001b[38;5;124mKorea, Dem. People*\u001b[39m\u001b[38;5;124m'\u001b[39m:\u001b[38;5;124m'\u001b[39m\u001b[38;5;124mNorth Korea\u001b[39m\u001b[38;5;124m'\u001b[39m,\u001b[38;5;124m'\u001b[39m\u001b[38;5;124mRussian Federation\u001b[39m\u001b[38;5;124m'\u001b[39m:\u001b[38;5;124m'\u001b[39m\u001b[38;5;124mRussia\u001b[39m\u001b[38;5;124m'\u001b[39m,\u001b[38;5;124m'\u001b[39m\u001b[38;5;124mSint Maarten (Dutch part)\u001b[39m\u001b[38;5;124m'\u001b[39m:\u001b[38;5;124m'\u001b[39m\u001b[38;5;124mSint Maarten\u001b[39m\u001b[38;5;124m'\u001b[39m,\n\u001b[0;32m     52\u001b[0m \u001b[38;5;124m'\u001b[39m\u001b[38;5;124mSyrian Arab Republic\u001b[39m\u001b[38;5;124m'\u001b[39m:\u001b[38;5;124m'\u001b[39m\u001b[38;5;124mSyria\u001b[39m\u001b[38;5;124m'\u001b[39m,\u001b[38;5;124m'\u001b[39m\u001b[38;5;124mTurkiye\u001b[39m\u001b[38;5;124m'\u001b[39m:\u001b[38;5;124m'\u001b[39m\u001b[38;5;124mTurkey\u001b[39m\u001b[38;5;124m'\u001b[39m,\u001b[38;5;124m'\u001b[39m\u001b[38;5;124mVenezuela, RB\u001b[39m\u001b[38;5;124m'\u001b[39m:\u001b[38;5;124m'\u001b[39m\u001b[38;5;124mVenezuela\u001b[39m\u001b[38;5;124m'\u001b[39m,\u001b[38;5;124m'\u001b[39m\u001b[38;5;124mVirgin Islands (U.S.)\u001b[39m\u001b[38;5;124m'\u001b[39m:\u001b[38;5;124m'\u001b[39m\u001b[38;5;124mVirgin Islands\u001b[39m\u001b[38;5;124m'\u001b[39m,\n\u001b[0;32m     53\u001b[0m \u001b[38;5;124m'\u001b[39m\u001b[38;5;124mYemen, Rep.\u001b[39m\u001b[38;5;124m'\u001b[39m:\u001b[38;5;124m'\u001b[39m\u001b[38;5;124mYemen\u001b[39m\u001b[38;5;124m'\u001b[39m})\n\u001b[0;32m     54\u001b[0m \u001b[38;5;66;03m# #keep only years from 1980 onward\u001b[39;00m\n\u001b[0;32m     55\u001b[0m \u001b[38;5;66;03m# columns_to_keep = ['Country Name', 'Country Code'] + [str(year) for year in range(1980, 2022)]\u001b[39;00m\n\u001b[0;32m     56\u001b[0m \u001b[38;5;66;03m# df_country = df_country[columns_to_keep]\u001b[39;00m\n\u001b[1;32m   (...)\u001b[0m\n\u001b[0;32m     89\u001b[0m \n\u001b[0;32m     90\u001b[0m \u001b[38;5;66;03m#save as csv file \u001b[39;00m\n\u001b[0;32m     91\u001b[0m df_country\u001b[38;5;241m.\u001b[39mto_excel(\u001b[38;5;124mr\u001b[39m\u001b[38;5;124m\"\u001b[39m\u001b[38;5;124mC:\u001b[39m\u001b[38;5;124m\\\u001b[39m\u001b[38;5;124mUsers\u001b[39m\u001b[38;5;124m\\\u001b[39m\u001b[38;5;124mmanga\u001b[39m\u001b[38;5;124m\\\u001b[39m\u001b[38;5;124mVizual_Optima_Git\u001b[39m\u001b[38;5;124m\\\u001b[39m\u001b[38;5;124mworld_population_analysis\u001b[39m\u001b[38;5;124m\\\u001b[39m\u001b[38;5;124mdata.xlsx\u001b[39m\u001b[38;5;124m\"\u001b[39m,index\u001b[38;5;241m=\u001b[39m\u001b[38;5;28;01mFalse\u001b[39;00m)\n",
      "File \u001b[1;32m~\\anaconda3\\Lib\\site-packages\\pandas\\core\\frame.py:4102\u001b[0m, in \u001b[0;36mDataFrame.__getitem__\u001b[1;34m(self, key)\u001b[0m\n\u001b[0;32m   4100\u001b[0m \u001b[38;5;28;01mif\u001b[39;00m \u001b[38;5;28mself\u001b[39m\u001b[38;5;241m.\u001b[39mcolumns\u001b[38;5;241m.\u001b[39mnlevels \u001b[38;5;241m>\u001b[39m \u001b[38;5;241m1\u001b[39m:\n\u001b[0;32m   4101\u001b[0m     \u001b[38;5;28;01mreturn\u001b[39;00m \u001b[38;5;28mself\u001b[39m\u001b[38;5;241m.\u001b[39m_getitem_multilevel(key)\n\u001b[1;32m-> 4102\u001b[0m indexer \u001b[38;5;241m=\u001b[39m \u001b[38;5;28mself\u001b[39m\u001b[38;5;241m.\u001b[39mcolumns\u001b[38;5;241m.\u001b[39mget_loc(key)\n\u001b[0;32m   4103\u001b[0m \u001b[38;5;28;01mif\u001b[39;00m is_integer(indexer):\n\u001b[0;32m   4104\u001b[0m     indexer \u001b[38;5;241m=\u001b[39m [indexer]\n",
      "File \u001b[1;32m~\\anaconda3\\Lib\\site-packages\\pandas\\core\\indexes\\base.py:3812\u001b[0m, in \u001b[0;36mIndex.get_loc\u001b[1;34m(self, key)\u001b[0m\n\u001b[0;32m   3807\u001b[0m     \u001b[38;5;28;01mif\u001b[39;00m \u001b[38;5;28misinstance\u001b[39m(casted_key, \u001b[38;5;28mslice\u001b[39m) \u001b[38;5;129;01mor\u001b[39;00m (\n\u001b[0;32m   3808\u001b[0m         \u001b[38;5;28misinstance\u001b[39m(casted_key, abc\u001b[38;5;241m.\u001b[39mIterable)\n\u001b[0;32m   3809\u001b[0m         \u001b[38;5;129;01mand\u001b[39;00m \u001b[38;5;28many\u001b[39m(\u001b[38;5;28misinstance\u001b[39m(x, \u001b[38;5;28mslice\u001b[39m) \u001b[38;5;28;01mfor\u001b[39;00m x \u001b[38;5;129;01min\u001b[39;00m casted_key)\n\u001b[0;32m   3810\u001b[0m     ):\n\u001b[0;32m   3811\u001b[0m         \u001b[38;5;28;01mraise\u001b[39;00m InvalidIndexError(key)\n\u001b[1;32m-> 3812\u001b[0m     \u001b[38;5;28;01mraise\u001b[39;00m \u001b[38;5;167;01mKeyError\u001b[39;00m(key) \u001b[38;5;28;01mfrom\u001b[39;00m \u001b[38;5;21;01merr\u001b[39;00m\n\u001b[0;32m   3813\u001b[0m \u001b[38;5;28;01mexcept\u001b[39;00m \u001b[38;5;167;01mTypeError\u001b[39;00m:\n\u001b[0;32m   3814\u001b[0m     \u001b[38;5;66;03m# If we have a listlike key, _check_indexing_error will raise\u001b[39;00m\n\u001b[0;32m   3815\u001b[0m     \u001b[38;5;66;03m#  InvalidIndexError. Otherwise we fall through and re-raise\u001b[39;00m\n\u001b[0;32m   3816\u001b[0m     \u001b[38;5;66;03m#  the TypeError.\u001b[39;00m\n\u001b[0;32m   3817\u001b[0m     \u001b[38;5;28mself\u001b[39m\u001b[38;5;241m.\u001b[39m_check_indexing_error(key)\n",
      "\u001b[1;31mKeyError\u001b[0m: 'Country Name'"
     ]
    }
   ],
   "source": [
    "# #open country dataset (dataset_1)\n",
    "df_country=pd.read_excel(dataset_2,header = None)\n",
    "\n",
    "# # The raw dataset comes with rows that need to be deleted , so the row starting with country name is set as header\n",
    "# df_1.columns = df_1.iloc[4]\n",
    "\n",
    "# #delete rows above\n",
    "# df_country = df_1.drop([0,1,2,3]).reset_index(drop=True)\n",
    "\n",
    "#reset the index to 0\n",
    "# df_country.columns = df_country.iloc[0]\n",
    "# df_country= df_country.drop([0]) \n",
    "\n",
    "# #set the header as string\n",
    "# df_country.columns = df_country.columns.astype(str)\n",
    "\n",
    "# #drop the indicator name and indicator code columns\n",
    "# columns_to_drop = ['Indicator Name', 'Indicator Code']\n",
    "# df_country = df_country.drop([col for col in columns_to_drop if col in df_country.columns], axis=1)\n",
    "\n",
    "# #fix the columns header\n",
    "# df_country.columns=['Country Name', 'Country Code', '1960', '1961', '1962', '1963', '1964', '1965', '1966', '1967', \n",
    "#               '1968', '1969', '1970', '1971', '1972', '1973', '1974', '1975', '1976', '1977', '1978', '1979', \n",
    "#               '1980', '1981', '1982', '1983', '1984', '1985', '1986', '1987', '1988', '1989', '1990', '1991', \n",
    "#               '1992', '1993', '1994', '1995', '1996', '1997', '1998', '1999', '2000', '2001', '2002', '2003', \n",
    "#               '2004', '2005', '2006', '2007', '2008', '2009', '2010', '2011', '2012', '2013', '2014', '2015', \n",
    "                    \n",
    "#               '2016', '2017', '2018', '2019', '2020', '2021']\n",
    "# #drop regions aggregates listed as countries\n",
    "# regions_aggregates_to_drop = [\n",
    "#     \"Africa Eastern and Southern\", \"Africa Western and Central\", \"Arab World\", \"Central Europe and the Baltics\",\n",
    "#     \"Caribbean small states\", \"East Asia & Pacific (excluding high income)\", \"Early-demographic dividend\",\n",
    "#     \"East Asia & Pacific\", \"Europe & Central Asia (excluding high income)\", \"Europe & Central Asia\", \"Euro area\",\n",
    "#     \"European Union\", \"Fragile and conflict affected situations\", \"High income\", \"Heavily indebted poor countries (HIPC)\",\n",
    "#     \"IBRD only\", \"IDA & IBRD total\", \"IDA total\", \"IDA blend\", \"IDA only\", \"Not classified\",\n",
    "#     \"Latin America & Caribbean (excluding high income)\", \"Latin America & Caribbean\", \"Least developed countries: UN classification\",\n",
    "#     \"Low income\", \"Lower middle income\", \"Low & middle income\", \"Late-demographic dividend\", \"Middle East & North Africa\",\n",
    "#     \"Middle income\", \"Middle East & North Africa (excluding high income)\", \"North America\", \"OECD members\",\n",
    "#     \"Other small states\", \"Pre-demographic dividend\", \"Pacific island small states\", \"Post-demographic dividend\",\n",
    "#     \"Sub-Saharan Africa (excluding high income)\", \"Sub-Saharan Africa\", \"Small states\",\n",
    "#     \"East Asia & Pacific (IDA & IBRD countries)\", \"Europe & Central Asia (IDA & IBRD countries)\",\n",
    "#     \"Latin America & the Caribbean (IDA & IBRD countries)\", \"Middle East & North Africa (IDA & IBRD countries)\",\n",
    "#     \"South Asia (IDA & IBRD)\", \"Sub-Saharan Africa (IDA & IBRD countries)\", \"Upper middle income\", \"World\"\n",
    "# ]\n",
    "# df_country = df_country[~df_country['Country Name'].isin(regions_aggregates_to_drop)]\n",
    "\n",
    "# #rename countries to universal standards\n",
    "df_country = df_country['Country Name'].replace({'Bahamas, The': 'Bahamas', 'Congo, Dem. Rep.' : 'Democratic Republic of Congo','Congo, Rep.':'Republic of Congo',\n",
    "'Egypt, Arab Rep.':'Egypt','Micronesia, Fed. Sts.':'Micronesia','Gambia, The':'Gambia','Hong Kong SAR, China':'Hong Kong',\n",
    "'Iran, Islamic Rep.':'Iran','Kyrgyz Republic':'Kyrgyzstan','Korea, Rep.':'South Korea','Lao PDR':'Laos','Macao SAR, China':'Macao',\n",
    "'St. Martin (French part)':'Saint Martin','Korea, Dem. People*':'North Korea','Russian Federation':'Russia','Sint Maarten (Dutch part)':'Sint Maarten',\n",
    "'Syrian Arab Republic':'Syria','Turkiye':'Turkey','Venezuela, RB':'Venezuela','Virgin Islands (U.S.)':'Virgin Islands',\n",
    "'Yemen, Rep.':'Yemen'})\n",
    "# #keep only years from 1980 onward\n",
    "# columns_to_keep = ['Country Name', 'Country Code'] + [str(year) for year in range(1980, 2022)]\n",
    "# df_country = df_country[columns_to_keep]\n",
    "\n",
    "# #reset the index\n",
    "# df_country.reset_index(drop=True, inplace=True)\n",
    "\n",
    "# #set the row under column dates as integer\n",
    "# year_columns = [str(year) for year in range(1980, 2022)]\n",
    "# df_country[year_columns]=df_country[year_columns].apply(pd.to_numeric,errors='coerce').astype('Int64')\n",
    "\n",
    "# #print the updated file\n",
    "# #df_country.head()\n",
    "\n",
    "#--------\n",
    "\n",
    "#open the regions dataset (dataset_2)\n",
    "# df_region = pd.read_excel(dataset_2)\n",
    "\n",
    "# #drop the columns special notes and table name\n",
    "# df_region.drop(['SpecialNotes','TableName'],axis=1,inplace=True)\n",
    "\n",
    "# #merge both dataset in a new df called population_table\n",
    "# population_table = pd.merge(df_country,df_region,how=\"inner\",on=[\"Country Code\",\"Country Code\"])\n",
    "\n",
    "# #reorder columns after merging both datasets\n",
    "# reorder_columns = ['Country Name', 'Country Code', 'Region', 'IncomeGroup'] + [str(year) for year in range(1980, 2022)]\n",
    "# population_table = population_table[reorder_columns]\n",
    "\n",
    "# #print dataset\n",
    "# population_table.head(10)\n",
    "\n",
    "# year_columns = [str(year) for year in range(1980, 2022)]\n",
    "# population_table[year_columns] = population_table[year_columns].astype('Int64')\n",
    "# population_table\n",
    "\n",
    "#save as csv file \n",
    "df_country.to_excel(r\"C:\\Users\\manga\\Vizual_Optima_Git\\world_population_analysis\\data.xlsx\",index=False)"
   ]
  },
  {
   "cell_type": "code",
   "execution_count": null,
   "id": "71eb4f52-dd4f-4d3e-ab61-3aae04484db8",
   "metadata": {},
   "outputs": [],
   "source": []
  }
 ],
 "metadata": {
  "kernelspec": {
   "display_name": "Python [conda env:base] *",
   "language": "python",
   "name": "conda-base-py"
  },
  "language_info": {
   "codemirror_mode": {
    "name": "ipython",
    "version": 3
   },
   "file_extension": ".py",
   "mimetype": "text/x-python",
   "name": "python",
   "nbconvert_exporter": "python",
   "pygments_lexer": "ipython3",
   "version": "3.12.7"
  }
 },
 "nbformat": 4,
 "nbformat_minor": 5
}
