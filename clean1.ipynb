{
 "cells": [
  {
   "cell_type": "code",
   "execution_count": 23,
   "id": "6e8a876a-fa7d-4bd6-b868-5432aac8c209",
   "metadata": {},
   "outputs": [],
   "source": [
    "import pandas as pd \n",
    "import os"
   ]
  },
  {
   "cell_type": "code",
   "execution_count": 25,
   "id": "83c56a59-fad0-42fb-9072-d97c6bc07274",
   "metadata": {},
   "outputs": [],
   "source": [
    "# dataset_1 = os.path.join(r\"C:\\Users\\manga\\Vizual_Optima_Git\\world_bank_data_cleanup\\Raw.xlsx\")\n",
    "dataset_2 = os.path.join(r\"C:\\Users\\manga\\Vizual_Optima_Git\\world_population_analysis\\data.xlsx\")"
   ]
  },
  {
   "cell_type": "code",
   "execution_count": 27,
   "id": "bfb6dad4-d12a-49b3-b732-6dede3bda726",
   "metadata": {
    "scrolled": true
   },
   "outputs": [
    {
     "name": "stdout",
     "output_type": "stream",
     "text": [
      "Column 'Country Name' not found in DataFrame\n"
     ]
    }
   ],
   "source": [
    "# #open country dataset (dataset_1)\n",
    "df_country=pd.read_excel(dataset_2,header = None)\n",
    "\n",
    "# #rename countries to universal standards\n",
    "if 'Country Name' in df_country.columns:\n",
    "    df_country.loc[:, 'Country Name'] = df_country['Country Name'].replace({\n",
    "        'Bahamas, The': 'Bahamas',\n",
    "        'Congo, Dem. Rep.': 'Democratic Republic of Congo',\n",
    "        'Congo, Rep.': 'Republic of Congo',\n",
    "        'Egypt, Arab Rep.': 'Egypt',\n",
    "        'Micronesia, Fed. Sts.': 'Micronesia',\n",
    "        'Gambia, The': 'Gambia',\n",
    "        'Hong Kong SAR, China': 'Hong Kong',\n",
    "        'Iran, Islamic Rep.': 'Iran',\n",
    "        'Kyrgyz Republic': 'Kyrgyzstan',\n",
    "        'Korea, Rep.': 'South Korea',\n",
    "        'Lao PDR': 'Laos',\n",
    "        'Macao SAR, China': 'Macao',\n",
    "        'St. Martin (French part)': 'Saint Martin',\n",
    "        'Korea, Dem. People*': 'North Korea',\n",
    "        'Russian Federation': 'Russia',\n",
    "        'Sint Maarten (Dutch part)': 'Sint Maarten',\n",
    "        'Syrian Arab Republic': 'Syria',\n",
    "        'Turkiye': 'Turkey',\n",
    "        'Venezuela, RB': 'Venezuela',\n",
    "        'Virgin Islands (U.S.)': 'Virgin Islands',\n",
    "        'Yemen, Rep.': 'Yemen'\n",
    "    })\n",
    "else:\n",
    "    print(\"Column 'Country Name' not found in DataFrame\")\n",
    "df_country\n",
    "#save as csv file \n",
    "df_country.to_excel(r\"C:\\Users\\manga\\Vizual_Optima_Git\\world_population_analysis\\data.xlsx\",index=False)"
   ]
  },
  {
   "cell_type": "code",
   "execution_count": null,
   "id": "71eb4f52-dd4f-4d3e-ab61-3aae04484db8",
   "metadata": {},
   "outputs": [],
   "source": []
  }
 ],
 "metadata": {
  "kernelspec": {
   "display_name": "Python [conda env:base] *",
   "language": "python",
   "name": "conda-base-py"
  },
  "language_info": {
   "codemirror_mode": {
    "name": "ipython",
    "version": 3
   },
   "file_extension": ".py",
   "mimetype": "text/x-python",
   "name": "python",
   "nbconvert_exporter": "python",
   "pygments_lexer": "ipython3",
   "version": "3.12.7"
  }
 },
 "nbformat": 4,
 "nbformat_minor": 5
}
